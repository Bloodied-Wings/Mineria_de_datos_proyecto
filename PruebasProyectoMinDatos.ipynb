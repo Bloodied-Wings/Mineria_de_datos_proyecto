{
  "cells": [
    {
      "cell_type": "markdown",
      "metadata": {
        "id": "view-in-github",
        "colab_type": "text"
      },
      "source": [
        "<a href=\"https://colab.research.google.com/github/Bloodied-Wings/Mineria_de_datos_proyecto/blob/main/PruebasProyectoMinDatos.ipynb\" target=\"_parent\"><img src=\"https://colab.research.google.com/assets/colab-badge.svg\" alt=\"Open In Colab\"/></a>"
      ]
    },
    {
      "cell_type": "code",
      "execution_count": 1,
      "metadata": {
        "id": "v_9LBoOj6SxW"
      },
      "outputs": [],
      "source": [
        "import pandas as pd\n",
        "import matplotlib.pyplot as plt\n",
        "import seaborn as sns\n",
        "import plotly as px\n",
        "import plotly.express as px\n",
        "from datetime import datetime"
      ]
    },
    {
      "cell_type": "code",
      "execution_count": 2,
      "metadata": {
        "id": "0m0_X20e6dW0"
      },
      "outputs": [],
      "source": [
        "#df = pd.read_csv(\"/content/drive/MyDrive/Dataframe.csv\")\n",
        "df = pd.read_csv(\"/content/drive/MyDrive/Pedidos_pan_pruebas_2023.csv\")"
      ]
    },
    {
      "cell_type": "code",
      "execution_count": null,
      "metadata": {
        "id": "4DDBJn7Ozm7K"
      },
      "outputs": [],
      "source": [
        "#Filtro que muestra todas las ventas del año\n",
        "figPedido = px.scatter(df, x=\"Date\", y=\"Pedido\", color=\"Vendido\",title=\"Pan Pedido v/s Pan Vendido: Año 2023\",labels={\"Date\":\"Fecha [dd/mm/yyyy]\",\"Pedido\":\"Pan pedido [Kg]\",\"Vendido\":\"Pan vendido [Kg]\"})\n",
        "figPedido.show()"
      ]
    },
    {
      "cell_type": "code",
      "execution_count": null,
      "metadata": {
        "id": "pvAt2YsNxqJ6"
      },
      "outputs": [],
      "source": [
        "#Filtro que muestra las ventas x mes\n",
        "print(\"1) Enero\")\n",
        "print(\"2) Febrero\")\n",
        "print(\"3) Marzo\")\n",
        "print(\"4) Abril\")\n",
        "print(\"5) Mayo\")\n",
        "print(\"6) Junio\")\n",
        "print(\"7) Julio\")\n",
        "print(\"8) Agosto\")\n",
        "print(\"9) Septiembre\")\n",
        "print(\"10) Octubre\")\n",
        "print(\"11) Noviembre\")\n",
        "print(\"12) Diciembre\")\n",
        "x = input(\"Mes: \")\n",
        "if x == \"1\":\n",
        "    mes = \"Enero\"\n",
        "elif x == \"2\":\n",
        "    mes = \"Febrero\"\n",
        "elif x == \"3\":\n",
        "    mes = \"Marzo\"\n",
        "elif x == \"4\":\n",
        "    mes = \"Abril\"\n",
        "elif x == \"5\":\n",
        "    mes = \"Mayo\"\n",
        "elif x == \"6\":\n",
        "    mes = \"Juenio\"\n",
        "elif x == \"7\":\n",
        "    mes = \"Julio\"\n",
        "elif x == \"8\":\n",
        "    mes = \"Agosto\"\n",
        "elif x == \"9\":\n",
        "    mes = \"Septiembre\"\n",
        "elif x == \"10\":\n",
        "    mes = \"Octubre\"\n",
        "elif x == \"11\":\n",
        "    mes = \"Noviembre\"\n",
        "elif x == \"12\":\n",
        "    mes = \"Diciembre\"\n",
        "\n",
        "df2 = df[(df[\"Month\"] == int(x))]\n",
        "figPedido = px.scatter(df2, x=\"Date\", y=\"Pedido\", color=\"Vendido\",title=\"Pan Pedido v/s Pan Vendido: \"+mes ,labels={\"Date\":\"Fecha [dd/mm/yyyy]\",\"Pedido\":\"Pan pedido [Kg]\",\"Vendido\":\"Pan vendido [Kg]\"})\n",
        "figPedido.show()"
      ]
    },
    {
      "cell_type": "code",
      "execution_count": null,
      "metadata": {
        "id": "hhajIxHUuRBZ"
      },
      "outputs": [],
      "source": [
        "#Filtro que muestra las ventas x día\n",
        "print(\"1) Lunes\")\n",
        "print(\"2) Martes\")\n",
        "print(\"3) Miercoles\")\n",
        "print(\"4) Jueves\")\n",
        "print(\"5) Viernes\")\n",
        "print(\"6) Sábado\")\n",
        "print(\"7) Domingo\")\n",
        "x = input(\"Dia: \")\n",
        "if x == \"1\":\n",
        "    dia = \"Lunes\"\n",
        "elif x == \"2\":\n",
        "    dia = \"Martes\"\n",
        "elif x == \"3\":\n",
        "    dia = \"Miercoles\"\n",
        "elif x == \"4\":\n",
        "    dia = \"Jueves\"\n",
        "elif x == \"5\":\n",
        "    dia = \"Viernes\"\n",
        "elif x == \"6\":\n",
        "    dia = \"Sábado\"\n",
        "elif x == \"7\":\n",
        "    dia = \"Domingo\"\n",
        "df3 = df[(df[\"WeekDay\"] == int(x))]\n",
        "figPedido = px.scatter(df3, x=\"Date\", y=\"Pedido\", color=\"Vendido\",title=\"Pan Pedido v/s Vendido: Días \"+dia,labels={\"Date\":\"Fecha [dd/mm/yyyy]\",\"Pedido\":\"Pan pedido [Kg]\",\"Vendido\":\"Pan vendido [Kg]\"})\n",
        "\n",
        "figPedido.show()"
      ]
    }
  ],
  "metadata": {
    "colab": {
      "provenance": [],
      "mount_file_id": "1xP4hAFCDmf_jmmxDSoEuSDui80Dn508P",
      "authorship_tag": "ABX9TyO2H7mXHWGBYgjSyh0Sm8qp",
      "include_colab_link": true
    },
    "kernelspec": {
      "display_name": "Python 3",
      "name": "python3"
    },
    "language_info": {
      "name": "python"
    }
  },
  "nbformat": 4,
  "nbformat_minor": 0
}