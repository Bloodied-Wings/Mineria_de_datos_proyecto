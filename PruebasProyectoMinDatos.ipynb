{
  "cells": [
    {
      "cell_type": "markdown",
      "metadata": {
        "id": "view-in-github",
        "colab_type": "text"
      },
      "source": [
        "<a href=\"https://colab.research.google.com/github/Bloodied-Wings/Mineria_de_datos_proyecto/blob/main/PruebasProyectoMinDatos.ipynb\" target=\"_parent\"><img src=\"https://colab.research.google.com/assets/colab-badge.svg\" alt=\"Open In Colab\"/></a>"
      ]
    },
    {
      "cell_type": "code",
      "execution_count": 1,
      "metadata": {
        "id": "v_9LBoOj6SxW"
      },
      "outputs": [],
      "source": [
        "import pandas as pd\n",
        "import matplotlib.pyplot as plt\n",
        "import seaborn as sns\n",
        "import plotly as px\n",
        "import plotly.express as px\n",
        "from datetime import datetime"
      ]
    },
    {
      "cell_type": "code",
      "execution_count": 2,
      "metadata": {
        "id": "0m0_X20e6dW0"
      },
      "outputs": [],
      "source": [
        "#df = pd.read_csv(\"/content/drive/MyDrive/Dataframe.csv\")\n",
        "df = pd.read_csv(\"/content/drive/MyDrive/Pedidos_pan_pruebas_2023.csv\")"
      ]
    },
    {
      "cell_type": "code",
      "execution_count": 3,
      "metadata": {
        "id": "4DDBJn7Ozm7K",
        "colab": {
          "base_uri": "https://localhost:8080/",
          "height": 542
        },
        "outputId": "1b1b0f7f-438d-4ec9-dc31-eeea4116b347"
      },
      "outputs": [
        {
          "output_type": "display_data",
          "data": {
            "text/html": [
              "<html>\n",
              "<head><meta charset=\"utf-8\" /></head>\n",
              "<body>\n",
              "    <div>            <script src=\"https://cdnjs.cloudflare.com/ajax/libs/mathjax/2.7.5/MathJax.js?config=TeX-AMS-MML_SVG\"></script><script type=\"text/javascript\">if (window.MathJax && window.MathJax.Hub && window.MathJax.Hub.Config) {window.MathJax.Hub.Config({SVG: {font: \"STIX-Web\"}});}</script>                <script type=\"text/javascript\">window.PlotlyConfig = {MathJaxConfig: 'local'};</script>\n",
              "        <script src=\"https://cdn.plot.ly/plotly-2.18.2.min.js\"></script>                <div id=\"ef852b10-2352-4b91-beb5-b0daeecb06e6\" class=\"plotly-graph-div\" style=\"height:525px; width:100%;\"></div>            <script type=\"text/javascript\">                                    window.PLOTLYENV=window.PLOTLYENV || {};                                    if (document.getElementById(\"ef852b10-2352-4b91-beb5-b0daeecb06e6\")) {                    Plotly.newPlot(                        \"ef852b10-2352-4b91-beb5-b0daeecb06e6\",                        [{\"hovertemplate\":\"Fecha [dd/mm/yyyy]=%{x}<br>Pan pedido [Kg]=%{y}<br>Pan vendido [Kg]=%{marker.color}<extra></extra>\",\"legendgroup\":\"\",\"marker\":{\"color\":[4,2,5,4,5,5,2,5,3,2,3,5,5,4,3,3,2,2,2,5,3,5,5,2,4,2,3,4,2,4,4,2,5,5,3,5,3,2,4,3,4,2,2,5,4,2,2,3,4,4,2,4,2,3,5,3,2,3,4,5,5,4,4,5,5,2,3,5,3,2,4,3,2,4,5,2,2,4,2,3,5,4,4,2,2,4,5,3,4,2,4,4,5,5,3,4,4,2,4,3,4,2,2,4,4,4,3,2,2,3,3,3,3,3,5,3,4,3,2,4,2,3,3,4,4,3,4,4,4,2,3,2,2,2,5,4,2,3,4,4,4,4,3,4,4,2,5,2,3,3,3,3,2,2,4,3,4,4,4,4,2,4,4,5,3,2,2,4,4,3,3,4,3,4,3,3,4,5,4,4,2,3,2,4,4,4,2,2,3,3,3,4,2,3,4,5,3,5,3,4,5,4,3,2,4,5,1,5,2,3,4,3,2,4,4,3,2,5,3,3,3,2,3,5,2,3,2,5,5,5,5,5,4,2,2,2,4,3,4,2,4,5,4,5,4,5,3,2,2,4,3,2,5,3,3,3,4,4,3,4,2,3,2,2,3,4,3,4,3,3,3,2,3,3,5,4,4,4,5,4,4,2,4,3,3,4,2,4,2,3,4,3,2,2,4,5,4,4,3,2,4,4,4,5,5,2,4,5,4,5,2,4,3,5,4,3,5,2,4,4,4,4,2,3,2,3,1,2,4,3,4,3,3,4,3,4,2,3,2,3,2,3,2,5,3,4,4,5,4,3,4,2,4,2,4,3,3,4,2,2,2,5,2,2,5],\"coloraxis\":\"coloraxis\",\"symbol\":\"circle\"},\"mode\":\"markers\",\"name\":\"\",\"orientation\":\"v\",\"showlegend\":false,\"x\":[\"01/01/2023\",\"02/01/2023\",\"03/01/2023\",\"04/01/2023\",\"05/01/2023\",\"06/01/2023\",\"07/01/2023\",\"08/01/2023\",\"09/01/2023\",\"10/01/2023\",\"11/01/2023\",\"12/01/2023\",\"13/01/2023\",\"14/01/2023\",\"15/01/2023\",\"16/01/2023\",\"17/01/2023\",\"18/01/2023\",\"19/01/2023\",\"20/01/2023\",\"21/01/2023\",\"22/01/2023\",\"23/01/2023\",\"24/01/2023\",\"25/01/2023\",\"26/01/2023\",\"27/01/2023\",\"28/01/2023\",\"29/01/2023\",\"30/01/2023\",\"31/01/2023\",\"01/02/2023\",\"02/02/2023\",\"03/02/2023\",\"04/02/2023\",\"05/02/2023\",\"06/02/2023\",\"07/02/2023\",\"08/02/2023\",\"09/02/2023\",\"10/02/2023\",\"11/02/2023\",\"12/02/2023\",\"13/02/2023\",\"14/02/2023\",\"15/02/2023\",\"16/02/2023\",\"17/02/2023\",\"18/02/2023\",\"19/02/2023\",\"20/02/2023\",\"21/02/2023\",\"22/02/2023\",\"23/02/2023\",\"24/02/2023\",\"25/02/2023\",\"26/02/2023\",\"27/02/2023\",\"28/02/2023\",\"01/03/2023\",\"02/03/2023\",\"03/03/2023\",\"04/03/2023\",\"05/03/2023\",\"06/03/2023\",\"07/03/2023\",\"08/03/2023\",\"09/03/2023\",\"10/03/2023\",\"11/03/2023\",\"12/03/2023\",\"13/03/2023\",\"14/03/2023\",\"15/03/2023\",\"16/03/2023\",\"17/03/2023\",\"18/03/2023\",\"19/03/2023\",\"20/03/2023\",\"21/03/2023\",\"22/03/2023\",\"23/03/2023\",\"24/03/2023\",\"25/03/2023\",\"26/03/2023\",\"27/03/2023\",\"28/03/2023\",\"29/03/2023\",\"30/03/2023\",\"31/03/2023\",\"01/04/2023\",\"02/04/2023\",\"03/04/2023\",\"04/04/2023\",\"05/04/2023\",\"06/04/2023\",\"07/04/2023\",\"08/04/2023\",\"09/04/2023\",\"10/04/2023\",\"11/04/2023\",\"12/04/2023\",\"13/04/2023\",\"14/04/2023\",\"15/04/2023\",\"16/04/2023\",\"17/04/2023\",\"18/04/2023\",\"19/04/2023\",\"20/04/2023\",\"21/04/2023\",\"22/04/2023\",\"23/04/2023\",\"24/04/2023\",\"25/04/2023\",\"26/04/2023\",\"27/04/2023\",\"28/04/2023\",\"29/04/2023\",\"30/04/2023\",\"01/05/2023\",\"02/05/2023\",\"03/05/2023\",\"04/05/2023\",\"05/05/2023\",\"06/05/2023\",\"07/05/2023\",\"08/05/2023\",\"09/05/2023\",\"10/05/2023\",\"11/05/2023\",\"12/05/2023\",\"13/05/2023\",\"14/05/2023\",\"15/05/2023\",\"16/05/2023\",\"17/05/2023\",\"18/05/2023\",\"19/05/2023\",\"20/05/2023\",\"21/05/2023\",\"22/05/2023\",\"23/05/2023\",\"24/05/2023\",\"25/05/2023\",\"26/05/2023\",\"27/05/2023\",\"28/05/2023\",\"29/05/2023\",\"30/05/2023\",\"31/05/2023\",\"01/06/2023\",\"02/06/2023\",\"03/06/2023\",\"04/06/2023\",\"05/06/2023\",\"06/06/2023\",\"07/06/2023\",\"08/06/2023\",\"09/06/2023\",\"10/06/2023\",\"11/06/2023\",\"12/06/2023\",\"13/06/2023\",\"14/06/2023\",\"15/06/2023\",\"16/06/2023\",\"17/06/2023\",\"18/06/2023\",\"19/06/2023\",\"20/06/2023\",\"21/06/2023\",\"22/06/2023\",\"23/06/2023\",\"24/06/2023\",\"25/06/2023\",\"26/06/2023\",\"27/06/2023\",\"28/06/2023\",\"29/06/2023\",\"30/06/2023\",\"01/07/2023\",\"02/07/2023\",\"03/07/2023\",\"04/07/2023\",\"05/07/2023\",\"06/07/2023\",\"07/07/2023\",\"08/07/2023\",\"09/07/2023\",\"10/07/2023\",\"11/07/2023\",\"12/07/2023\",\"13/07/2023\",\"14/07/2023\",\"15/07/2023\",\"16/07/2023\",\"17/07/2023\",\"18/07/2023\",\"19/07/2023\",\"20/07/2023\",\"21/07/2023\",\"22/07/2023\",\"23/07/2023\",\"24/07/2023\",\"25/07/2023\",\"26/07/2023\",\"27/07/2023\",\"28/07/2023\",\"29/07/2023\",\"30/07/2023\",\"31/07/2023\",\"01/08/2023\",\"02/08/2023\",\"03/08/2023\",\"04/08/2023\",\"05/08/2023\",\"06/08/2023\",\"07/08/2023\",\"08/08/2023\",\"09/08/2023\",\"10/08/2023\",\"11/08/2023\",\"12/08/2023\",\"13/08/2023\",\"14/08/2023\",\"15/08/2023\",\"16/08/2023\",\"17/08/2023\",\"18/08/2023\",\"19/08/2023\",\"20/08/2023\",\"21/08/2023\",\"22/08/2023\",\"23/08/2023\",\"24/08/2023\",\"25/08/2023\",\"26/08/2023\",\"27/08/2023\",\"28/08/2023\",\"29/08/2023\",\"30/08/2023\",\"31/08/2023\",\"01/09/2023\",\"02/09/2023\",\"03/09/2023\",\"04/09/2023\",\"05/09/2023\",\"06/09/2023\",\"07/09/2023\",\"08/09/2023\",\"09/09/2023\",\"10/09/2023\",\"11/09/2023\",\"12/09/2023\",\"13/09/2023\",\"14/09/2023\",\"15/09/2023\",\"16/09/2023\",\"17/09/2023\",\"18/09/2023\",\"19/09/2023\",\"20/09/2023\",\"21/09/2023\",\"22/09/2023\",\"23/09/2023\",\"24/09/2023\",\"25/09/2023\",\"26/09/2023\",\"27/09/2023\",\"28/09/2023\",\"29/09/2023\",\"30/09/2023\",\"01/10/2023\",\"02/10/2023\",\"03/10/2023\",\"04/10/2023\",\"05/10/2023\",\"06/10/2023\",\"07/10/2023\",\"08/10/2023\",\"09/10/2023\",\"10/10/2023\",\"11/10/2023\",\"12/10/2023\",\"13/10/2023\",\"14/10/2023\",\"15/10/2023\",\"16/10/2023\",\"17/10/2023\",\"18/10/2023\",\"19/10/2023\",\"20/10/2023\",\"21/10/2023\",\"22/10/2023\",\"23/10/2023\",\"24/10/2023\",\"25/10/2023\",\"26/10/2023\",\"27/10/2023\",\"28/10/2023\",\"29/10/2023\",\"30/10/2023\",\"31/10/2023\",\"01/11/2023\",\"02/11/2023\",\"03/11/2023\",\"04/11/2023\",\"05/11/2023\",\"06/11/2023\",\"07/11/2023\",\"08/11/2023\",\"09/11/2023\",\"10/11/2023\",\"11/11/2023\",\"12/11/2023\",\"13/11/2023\",\"14/11/2023\",\"15/11/2023\",\"16/11/2023\",\"17/11/2023\",\"18/11/2023\",\"19/11/2023\",\"20/11/2023\",\"21/11/2023\",\"22/11/2023\",\"23/11/2023\",\"24/11/2023\",\"25/11/2023\",\"26/11/2023\",\"27/11/2023\",\"28/11/2023\",\"29/11/2023\",\"30/11/2023\",\"01/12/2023\",\"02/12/2023\",\"03/12/2023\",\"04/12/2023\",\"05/12/2023\",\"06/12/2023\",\"07/12/2023\",\"08/12/2023\",\"09/12/2023\",\"10/12/2023\",\"11/12/2023\",\"12/12/2023\",\"13/12/2023\",\"14/12/2023\",\"15/12/2023\",\"16/12/2023\",\"17/12/2023\",\"18/12/2023\",\"19/12/2023\",\"20/12/2023\",\"21/12/2023\",\"22/12/2023\",\"23/12/2023\",\"24/12/2023\",\"25/12/2023\",\"26/12/2023\",\"27/12/2023\",\"28/12/2023\",\"29/12/2023\",\"30/12/2023\",\"31/12/2023\"],\"xaxis\":\"x\",\"y\":[5,4,5,5,5,5,4,5,4,5,4,5,5,5,4,5,4,4,5,5,4,5,5,4,5,4,4,5,5,4,4,5,5,5,4,5,5,4,5,4,5,5,4,5,4,4,4,5,4,4,5,4,4,4,5,5,4,5,4,5,5,5,5,5,5,5,4,5,4,4,4,5,4,5,5,4,4,4,4,5,5,4,4,4,4,4,5,5,4,5,4,5,5,5,5,4,4,5,5,4,5,5,4,4,5,5,5,5,5,4,5,5,5,5,5,5,5,5,4,4,4,4,4,4,4,4,5,4,4,5,5,4,4,5,5,4,5,5,4,4,5,5,5,5,4,5,5,5,5,4,4,5,4,5,5,5,4,4,5,5,4,5,4,5,5,4,4,4,4,5,4,5,5,4,4,4,4,5,4,4,5,5,4,4,5,4,4,5,4,5,4,4,5,5,4,5,4,5,5,4,5,5,5,4,5,5,4,5,4,5,4,4,4,5,5,4,4,5,4,5,4,5,4,5,4,4,4,5,5,5,5,5,5,5,4,4,5,4,4,4,4,5,4,5,5,5,4,4,4,4,5,4,5,5,4,5,5,5,5,4,5,4,5,4,4,4,4,5,4,5,5,5,5,5,5,4,5,5,5,4,5,4,5,4,5,4,5,5,5,4,4,4,4,4,5,5,4,4,4,5,5,4,5,5,5,4,4,5,4,5,5,5,5,5,5,5,5,5,4,5,4,4,4,4,5,5,4,4,4,5,5,4,4,5,5,4,4,4,4,5,5,4,5,5,5,5,5,5,5,4,5,4,5,4,4,5,4,4,5,5,5,5,5,5,5],\"yaxis\":\"y\",\"type\":\"scatter\"}],                        {\"template\":{\"data\":{\"histogram2dcontour\":[{\"type\":\"histogram2dcontour\",\"colorbar\":{\"outlinewidth\":0,\"ticks\":\"\"},\"colorscale\":[[0.0,\"#0d0887\"],[0.1111111111111111,\"#46039f\"],[0.2222222222222222,\"#7201a8\"],[0.3333333333333333,\"#9c179e\"],[0.4444444444444444,\"#bd3786\"],[0.5555555555555556,\"#d8576b\"],[0.6666666666666666,\"#ed7953\"],[0.7777777777777778,\"#fb9f3a\"],[0.8888888888888888,\"#fdca26\"],[1.0,\"#f0f921\"]]}],\"choropleth\":[{\"type\":\"choropleth\",\"colorbar\":{\"outlinewidth\":0,\"ticks\":\"\"}}],\"histogram2d\":[{\"type\":\"histogram2d\",\"colorbar\":{\"outlinewidth\":0,\"ticks\":\"\"},\"colorscale\":[[0.0,\"#0d0887\"],[0.1111111111111111,\"#46039f\"],[0.2222222222222222,\"#7201a8\"],[0.3333333333333333,\"#9c179e\"],[0.4444444444444444,\"#bd3786\"],[0.5555555555555556,\"#d8576b\"],[0.6666666666666666,\"#ed7953\"],[0.7777777777777778,\"#fb9f3a\"],[0.8888888888888888,\"#fdca26\"],[1.0,\"#f0f921\"]]}],\"heatmap\":[{\"type\":\"heatmap\",\"colorbar\":{\"outlinewidth\":0,\"ticks\":\"\"},\"colorscale\":[[0.0,\"#0d0887\"],[0.1111111111111111,\"#46039f\"],[0.2222222222222222,\"#7201a8\"],[0.3333333333333333,\"#9c179e\"],[0.4444444444444444,\"#bd3786\"],[0.5555555555555556,\"#d8576b\"],[0.6666666666666666,\"#ed7953\"],[0.7777777777777778,\"#fb9f3a\"],[0.8888888888888888,\"#fdca26\"],[1.0,\"#f0f921\"]]}],\"heatmapgl\":[{\"type\":\"heatmapgl\",\"colorbar\":{\"outlinewidth\":0,\"ticks\":\"\"},\"colorscale\":[[0.0,\"#0d0887\"],[0.1111111111111111,\"#46039f\"],[0.2222222222222222,\"#7201a8\"],[0.3333333333333333,\"#9c179e\"],[0.4444444444444444,\"#bd3786\"],[0.5555555555555556,\"#d8576b\"],[0.6666666666666666,\"#ed7953\"],[0.7777777777777778,\"#fb9f3a\"],[0.8888888888888888,\"#fdca26\"],[1.0,\"#f0f921\"]]}],\"contourcarpet\":[{\"type\":\"contourcarpet\",\"colorbar\":{\"outlinewidth\":0,\"ticks\":\"\"}}],\"contour\":[{\"type\":\"contour\",\"colorbar\":{\"outlinewidth\":0,\"ticks\":\"\"},\"colorscale\":[[0.0,\"#0d0887\"],[0.1111111111111111,\"#46039f\"],[0.2222222222222222,\"#7201a8\"],[0.3333333333333333,\"#9c179e\"],[0.4444444444444444,\"#bd3786\"],[0.5555555555555556,\"#d8576b\"],[0.6666666666666666,\"#ed7953\"],[0.7777777777777778,\"#fb9f3a\"],[0.8888888888888888,\"#fdca26\"],[1.0,\"#f0f921\"]]}],\"surface\":[{\"type\":\"surface\",\"colorbar\":{\"outlinewidth\":0,\"ticks\":\"\"},\"colorscale\":[[0.0,\"#0d0887\"],[0.1111111111111111,\"#46039f\"],[0.2222222222222222,\"#7201a8\"],[0.3333333333333333,\"#9c179e\"],[0.4444444444444444,\"#bd3786\"],[0.5555555555555556,\"#d8576b\"],[0.6666666666666666,\"#ed7953\"],[0.7777777777777778,\"#fb9f3a\"],[0.8888888888888888,\"#fdca26\"],[1.0,\"#f0f921\"]]}],\"mesh3d\":[{\"type\":\"mesh3d\",\"colorbar\":{\"outlinewidth\":0,\"ticks\":\"\"}}],\"scatter\":[{\"fillpattern\":{\"fillmode\":\"overlay\",\"size\":10,\"solidity\":0.2},\"type\":\"scatter\"}],\"parcoords\":[{\"type\":\"parcoords\",\"line\":{\"colorbar\":{\"outlinewidth\":0,\"ticks\":\"\"}}}],\"scatterpolargl\":[{\"type\":\"scatterpolargl\",\"marker\":{\"colorbar\":{\"outlinewidth\":0,\"ticks\":\"\"}}}],\"bar\":[{\"error_x\":{\"color\":\"#2a3f5f\"},\"error_y\":{\"color\":\"#2a3f5f\"},\"marker\":{\"line\":{\"color\":\"#E5ECF6\",\"width\":0.5},\"pattern\":{\"fillmode\":\"overlay\",\"size\":10,\"solidity\":0.2}},\"type\":\"bar\"}],\"scattergeo\":[{\"type\":\"scattergeo\",\"marker\":{\"colorbar\":{\"outlinewidth\":0,\"ticks\":\"\"}}}],\"scatterpolar\":[{\"type\":\"scatterpolar\",\"marker\":{\"colorbar\":{\"outlinewidth\":0,\"ticks\":\"\"}}}],\"histogram\":[{\"marker\":{\"pattern\":{\"fillmode\":\"overlay\",\"size\":10,\"solidity\":0.2}},\"type\":\"histogram\"}],\"scattergl\":[{\"type\":\"scattergl\",\"marker\":{\"colorbar\":{\"outlinewidth\":0,\"ticks\":\"\"}}}],\"scatter3d\":[{\"type\":\"scatter3d\",\"line\":{\"colorbar\":{\"outlinewidth\":0,\"ticks\":\"\"}},\"marker\":{\"colorbar\":{\"outlinewidth\":0,\"ticks\":\"\"}}}],\"scattermapbox\":[{\"type\":\"scattermapbox\",\"marker\":{\"colorbar\":{\"outlinewidth\":0,\"ticks\":\"\"}}}],\"scatterternary\":[{\"type\":\"scatterternary\",\"marker\":{\"colorbar\":{\"outlinewidth\":0,\"ticks\":\"\"}}}],\"scattercarpet\":[{\"type\":\"scattercarpet\",\"marker\":{\"colorbar\":{\"outlinewidth\":0,\"ticks\":\"\"}}}],\"carpet\":[{\"aaxis\":{\"endlinecolor\":\"#2a3f5f\",\"gridcolor\":\"white\",\"linecolor\":\"white\",\"minorgridcolor\":\"white\",\"startlinecolor\":\"#2a3f5f\"},\"baxis\":{\"endlinecolor\":\"#2a3f5f\",\"gridcolor\":\"white\",\"linecolor\":\"white\",\"minorgridcolor\":\"white\",\"startlinecolor\":\"#2a3f5f\"},\"type\":\"carpet\"}],\"table\":[{\"cells\":{\"fill\":{\"color\":\"#EBF0F8\"},\"line\":{\"color\":\"white\"}},\"header\":{\"fill\":{\"color\":\"#C8D4E3\"},\"line\":{\"color\":\"white\"}},\"type\":\"table\"}],\"barpolar\":[{\"marker\":{\"line\":{\"color\":\"#E5ECF6\",\"width\":0.5},\"pattern\":{\"fillmode\":\"overlay\",\"size\":10,\"solidity\":0.2}},\"type\":\"barpolar\"}],\"pie\":[{\"automargin\":true,\"type\":\"pie\"}]},\"layout\":{\"autotypenumbers\":\"strict\",\"colorway\":[\"#636efa\",\"#EF553B\",\"#00cc96\",\"#ab63fa\",\"#FFA15A\",\"#19d3f3\",\"#FF6692\",\"#B6E880\",\"#FF97FF\",\"#FECB52\"],\"font\":{\"color\":\"#2a3f5f\"},\"hovermode\":\"closest\",\"hoverlabel\":{\"align\":\"left\"},\"paper_bgcolor\":\"white\",\"plot_bgcolor\":\"#E5ECF6\",\"polar\":{\"bgcolor\":\"#E5ECF6\",\"angularaxis\":{\"gridcolor\":\"white\",\"linecolor\":\"white\",\"ticks\":\"\"},\"radialaxis\":{\"gridcolor\":\"white\",\"linecolor\":\"white\",\"ticks\":\"\"}},\"ternary\":{\"bgcolor\":\"#E5ECF6\",\"aaxis\":{\"gridcolor\":\"white\",\"linecolor\":\"white\",\"ticks\":\"\"},\"baxis\":{\"gridcolor\":\"white\",\"linecolor\":\"white\",\"ticks\":\"\"},\"caxis\":{\"gridcolor\":\"white\",\"linecolor\":\"white\",\"ticks\":\"\"}},\"coloraxis\":{\"colorbar\":{\"outlinewidth\":0,\"ticks\":\"\"}},\"colorscale\":{\"sequential\":[[0.0,\"#0d0887\"],[0.1111111111111111,\"#46039f\"],[0.2222222222222222,\"#7201a8\"],[0.3333333333333333,\"#9c179e\"],[0.4444444444444444,\"#bd3786\"],[0.5555555555555556,\"#d8576b\"],[0.6666666666666666,\"#ed7953\"],[0.7777777777777778,\"#fb9f3a\"],[0.8888888888888888,\"#fdca26\"],[1.0,\"#f0f921\"]],\"sequentialminus\":[[0.0,\"#0d0887\"],[0.1111111111111111,\"#46039f\"],[0.2222222222222222,\"#7201a8\"],[0.3333333333333333,\"#9c179e\"],[0.4444444444444444,\"#bd3786\"],[0.5555555555555556,\"#d8576b\"],[0.6666666666666666,\"#ed7953\"],[0.7777777777777778,\"#fb9f3a\"],[0.8888888888888888,\"#fdca26\"],[1.0,\"#f0f921\"]],\"diverging\":[[0,\"#8e0152\"],[0.1,\"#c51b7d\"],[0.2,\"#de77ae\"],[0.3,\"#f1b6da\"],[0.4,\"#fde0ef\"],[0.5,\"#f7f7f7\"],[0.6,\"#e6f5d0\"],[0.7,\"#b8e186\"],[0.8,\"#7fbc41\"],[0.9,\"#4d9221\"],[1,\"#276419\"]]},\"xaxis\":{\"gridcolor\":\"white\",\"linecolor\":\"white\",\"ticks\":\"\",\"title\":{\"standoff\":15},\"zerolinecolor\":\"white\",\"automargin\":true,\"zerolinewidth\":2},\"yaxis\":{\"gridcolor\":\"white\",\"linecolor\":\"white\",\"ticks\":\"\",\"title\":{\"standoff\":15},\"zerolinecolor\":\"white\",\"automargin\":true,\"zerolinewidth\":2},\"scene\":{\"xaxis\":{\"backgroundcolor\":\"#E5ECF6\",\"gridcolor\":\"white\",\"linecolor\":\"white\",\"showbackground\":true,\"ticks\":\"\",\"zerolinecolor\":\"white\",\"gridwidth\":2},\"yaxis\":{\"backgroundcolor\":\"#E5ECF6\",\"gridcolor\":\"white\",\"linecolor\":\"white\",\"showbackground\":true,\"ticks\":\"\",\"zerolinecolor\":\"white\",\"gridwidth\":2},\"zaxis\":{\"backgroundcolor\":\"#E5ECF6\",\"gridcolor\":\"white\",\"linecolor\":\"white\",\"showbackground\":true,\"ticks\":\"\",\"zerolinecolor\":\"white\",\"gridwidth\":2}},\"shapedefaults\":{\"line\":{\"color\":\"#2a3f5f\"}},\"annotationdefaults\":{\"arrowcolor\":\"#2a3f5f\",\"arrowhead\":0,\"arrowwidth\":1},\"geo\":{\"bgcolor\":\"white\",\"landcolor\":\"#E5ECF6\",\"subunitcolor\":\"white\",\"showland\":true,\"showlakes\":true,\"lakecolor\":\"white\"},\"title\":{\"x\":0.05},\"mapbox\":{\"style\":\"light\"}}},\"xaxis\":{\"anchor\":\"y\",\"domain\":[0.0,1.0],\"title\":{\"text\":\"Fecha [dd/mm/yyyy]\"}},\"yaxis\":{\"anchor\":\"x\",\"domain\":[0.0,1.0],\"title\":{\"text\":\"Pan pedido [Kg]\"}},\"coloraxis\":{\"colorbar\":{\"title\":{\"text\":\"Pan vendido [Kg]\"}},\"colorscale\":[[0.0,\"#0d0887\"],[0.1111111111111111,\"#46039f\"],[0.2222222222222222,\"#7201a8\"],[0.3333333333333333,\"#9c179e\"],[0.4444444444444444,\"#bd3786\"],[0.5555555555555556,\"#d8576b\"],[0.6666666666666666,\"#ed7953\"],[0.7777777777777778,\"#fb9f3a\"],[0.8888888888888888,\"#fdca26\"],[1.0,\"#f0f921\"]]},\"legend\":{\"tracegroupgap\":0},\"title\":{\"text\":\"Pan Pedido v/s Pan Vendido: A\\u00f1o 2023\"}},                        {\"responsive\": true}                    ).then(function(){\n",
              "                            \n",
              "var gd = document.getElementById('ef852b10-2352-4b91-beb5-b0daeecb06e6');\n",
              "var x = new MutationObserver(function (mutations, observer) {{\n",
              "        var display = window.getComputedStyle(gd).display;\n",
              "        if (!display || display === 'none') {{\n",
              "            console.log([gd, 'removed!']);\n",
              "            Plotly.purge(gd);\n",
              "            observer.disconnect();\n",
              "        }}\n",
              "}});\n",
              "\n",
              "// Listen for the removal of the full notebook cells\n",
              "var notebookContainer = gd.closest('#notebook-container');\n",
              "if (notebookContainer) {{\n",
              "    x.observe(notebookContainer, {childList: true});\n",
              "}}\n",
              "\n",
              "// Listen for the clearing of the current output cell\n",
              "var outputEl = gd.closest('.output');\n",
              "if (outputEl) {{\n",
              "    x.observe(outputEl, {childList: true});\n",
              "}}\n",
              "\n",
              "                        })                };                            </script>        </div>\n",
              "</body>\n",
              "</html>"
            ]
          },
          "metadata": {}
        }
      ],
      "source": [
        "#Filtro que muestra todas las ventas del año\n",
        "figPedido = px.scatter(df, x=\"Date\", y=\"Pedido\", color=\"Vendido\",title=\"Pan Pedido v/s Pan Vendido: Año 2023\",labels={\"Date\":\"Fecha [dd/mm/yyyy]\",\"Pedido\":\"Pan pedido [Kg]\",\"Vendido\":\"Pan vendido [Kg]\"})\n",
        "figPedido.show()"
      ]
    },
    {
      "cell_type": "code",
      "execution_count": 4,
      "metadata": {
        "colab": {
          "base_uri": "https://localhost:8080/",
          "height": 768
        },
        "id": "pvAt2YsNxqJ6",
        "outputId": "4dfdb4ee-636c-45ed-eb65-887850b75adc"
      },
      "outputs": [
        {
          "name": "stdout",
          "output_type": "stream",
          "text": [
            "1) Enero\n",
            "2) Febrero\n",
            "3) Marzo\n",
            "4) Abril\n",
            "5) Mayo\n",
            "6) Junio\n",
            "7) Julio\n",
            "8) Agosto\n",
            "9) Septiembre\n",
            "10) Octubre\n",
            "11) Noviembre\n",
            "12) Diciembre\n",
            "Mes: 12\n"
          ]
        },
        {
          "output_type": "display_data",
          "data": {
            "text/html": [
              "<html>\n",
              "<head><meta charset=\"utf-8\" /></head>\n",
              "<body>\n",
              "    <div>            <script src=\"https://cdnjs.cloudflare.com/ajax/libs/mathjax/2.7.5/MathJax.js?config=TeX-AMS-MML_SVG\"></script><script type=\"text/javascript\">if (window.MathJax && window.MathJax.Hub && window.MathJax.Hub.Config) {window.MathJax.Hub.Config({SVG: {font: \"STIX-Web\"}});}</script>                <script type=\"text/javascript\">window.PlotlyConfig = {MathJaxConfig: 'local'};</script>\n",
              "        <script src=\"https://cdn.plot.ly/plotly-2.18.2.min.js\"></script>                <div id=\"48fea868-5212-427f-8dca-edc2024e4661\" class=\"plotly-graph-div\" style=\"height:525px; width:100%;\"></div>            <script type=\"text/javascript\">                                    window.PLOTLYENV=window.PLOTLYENV || {};                                    if (document.getElementById(\"48fea868-5212-427f-8dca-edc2024e4661\")) {                    Plotly.newPlot(                        \"48fea868-5212-427f-8dca-edc2024e4661\",                        [{\"hovertemplate\":\"Fecha [dd/mm/yyyy]=%{x}<br>Pan pedido [Kg]=%{y}<br>Pan vendido [Kg]=%{marker.color}<extra></extra>\",\"legendgroup\":\"\",\"marker\":{\"color\":[3,4,2,3,2,3,2,3,2,5,3,4,4,5,4,3,4,2,4,2,4,3,3,4,2,2,2,5,2,2,5],\"coloraxis\":\"coloraxis\",\"symbol\":\"circle\"},\"mode\":\"markers\",\"name\":\"\",\"orientation\":\"v\",\"showlegend\":false,\"x\":[\"01/12/2023\",\"02/12/2023\",\"03/12/2023\",\"04/12/2023\",\"05/12/2023\",\"06/12/2023\",\"07/12/2023\",\"08/12/2023\",\"09/12/2023\",\"10/12/2023\",\"11/12/2023\",\"12/12/2023\",\"13/12/2023\",\"14/12/2023\",\"15/12/2023\",\"16/12/2023\",\"17/12/2023\",\"18/12/2023\",\"19/12/2023\",\"20/12/2023\",\"21/12/2023\",\"22/12/2023\",\"23/12/2023\",\"24/12/2023\",\"25/12/2023\",\"26/12/2023\",\"27/12/2023\",\"28/12/2023\",\"29/12/2023\",\"30/12/2023\",\"31/12/2023\"],\"xaxis\":\"x\",\"y\":[5,4,4,4,4,5,5,4,5,5,5,5,5,5,5,4,5,4,5,4,4,5,4,4,5,5,5,5,5,5,5],\"yaxis\":\"y\",\"type\":\"scatter\"}],                        {\"template\":{\"data\":{\"histogram2dcontour\":[{\"type\":\"histogram2dcontour\",\"colorbar\":{\"outlinewidth\":0,\"ticks\":\"\"},\"colorscale\":[[0.0,\"#0d0887\"],[0.1111111111111111,\"#46039f\"],[0.2222222222222222,\"#7201a8\"],[0.3333333333333333,\"#9c179e\"],[0.4444444444444444,\"#bd3786\"],[0.5555555555555556,\"#d8576b\"],[0.6666666666666666,\"#ed7953\"],[0.7777777777777778,\"#fb9f3a\"],[0.8888888888888888,\"#fdca26\"],[1.0,\"#f0f921\"]]}],\"choropleth\":[{\"type\":\"choropleth\",\"colorbar\":{\"outlinewidth\":0,\"ticks\":\"\"}}],\"histogram2d\":[{\"type\":\"histogram2d\",\"colorbar\":{\"outlinewidth\":0,\"ticks\":\"\"},\"colorscale\":[[0.0,\"#0d0887\"],[0.1111111111111111,\"#46039f\"],[0.2222222222222222,\"#7201a8\"],[0.3333333333333333,\"#9c179e\"],[0.4444444444444444,\"#bd3786\"],[0.5555555555555556,\"#d8576b\"],[0.6666666666666666,\"#ed7953\"],[0.7777777777777778,\"#fb9f3a\"],[0.8888888888888888,\"#fdca26\"],[1.0,\"#f0f921\"]]}],\"heatmap\":[{\"type\":\"heatmap\",\"colorbar\":{\"outlinewidth\":0,\"ticks\":\"\"},\"colorscale\":[[0.0,\"#0d0887\"],[0.1111111111111111,\"#46039f\"],[0.2222222222222222,\"#7201a8\"],[0.3333333333333333,\"#9c179e\"],[0.4444444444444444,\"#bd3786\"],[0.5555555555555556,\"#d8576b\"],[0.6666666666666666,\"#ed7953\"],[0.7777777777777778,\"#fb9f3a\"],[0.8888888888888888,\"#fdca26\"],[1.0,\"#f0f921\"]]}],\"heatmapgl\":[{\"type\":\"heatmapgl\",\"colorbar\":{\"outlinewidth\":0,\"ticks\":\"\"},\"colorscale\":[[0.0,\"#0d0887\"],[0.1111111111111111,\"#46039f\"],[0.2222222222222222,\"#7201a8\"],[0.3333333333333333,\"#9c179e\"],[0.4444444444444444,\"#bd3786\"],[0.5555555555555556,\"#d8576b\"],[0.6666666666666666,\"#ed7953\"],[0.7777777777777778,\"#fb9f3a\"],[0.8888888888888888,\"#fdca26\"],[1.0,\"#f0f921\"]]}],\"contourcarpet\":[{\"type\":\"contourcarpet\",\"colorbar\":{\"outlinewidth\":0,\"ticks\":\"\"}}],\"contour\":[{\"type\":\"contour\",\"colorbar\":{\"outlinewidth\":0,\"ticks\":\"\"},\"colorscale\":[[0.0,\"#0d0887\"],[0.1111111111111111,\"#46039f\"],[0.2222222222222222,\"#7201a8\"],[0.3333333333333333,\"#9c179e\"],[0.4444444444444444,\"#bd3786\"],[0.5555555555555556,\"#d8576b\"],[0.6666666666666666,\"#ed7953\"],[0.7777777777777778,\"#fb9f3a\"],[0.8888888888888888,\"#fdca26\"],[1.0,\"#f0f921\"]]}],\"surface\":[{\"type\":\"surface\",\"colorbar\":{\"outlinewidth\":0,\"ticks\":\"\"},\"colorscale\":[[0.0,\"#0d0887\"],[0.1111111111111111,\"#46039f\"],[0.2222222222222222,\"#7201a8\"],[0.3333333333333333,\"#9c179e\"],[0.4444444444444444,\"#bd3786\"],[0.5555555555555556,\"#d8576b\"],[0.6666666666666666,\"#ed7953\"],[0.7777777777777778,\"#fb9f3a\"],[0.8888888888888888,\"#fdca26\"],[1.0,\"#f0f921\"]]}],\"mesh3d\":[{\"type\":\"mesh3d\",\"colorbar\":{\"outlinewidth\":0,\"ticks\":\"\"}}],\"scatter\":[{\"fillpattern\":{\"fillmode\":\"overlay\",\"size\":10,\"solidity\":0.2},\"type\":\"scatter\"}],\"parcoords\":[{\"type\":\"parcoords\",\"line\":{\"colorbar\":{\"outlinewidth\":0,\"ticks\":\"\"}}}],\"scatterpolargl\":[{\"type\":\"scatterpolargl\",\"marker\":{\"colorbar\":{\"outlinewidth\":0,\"ticks\":\"\"}}}],\"bar\":[{\"error_x\":{\"color\":\"#2a3f5f\"},\"error_y\":{\"color\":\"#2a3f5f\"},\"marker\":{\"line\":{\"color\":\"#E5ECF6\",\"width\":0.5},\"pattern\":{\"fillmode\":\"overlay\",\"size\":10,\"solidity\":0.2}},\"type\":\"bar\"}],\"scattergeo\":[{\"type\":\"scattergeo\",\"marker\":{\"colorbar\":{\"outlinewidth\":0,\"ticks\":\"\"}}}],\"scatterpolar\":[{\"type\":\"scatterpolar\",\"marker\":{\"colorbar\":{\"outlinewidth\":0,\"ticks\":\"\"}}}],\"histogram\":[{\"marker\":{\"pattern\":{\"fillmode\":\"overlay\",\"size\":10,\"solidity\":0.2}},\"type\":\"histogram\"}],\"scattergl\":[{\"type\":\"scattergl\",\"marker\":{\"colorbar\":{\"outlinewidth\":0,\"ticks\":\"\"}}}],\"scatter3d\":[{\"type\":\"scatter3d\",\"line\":{\"colorbar\":{\"outlinewidth\":0,\"ticks\":\"\"}},\"marker\":{\"colorbar\":{\"outlinewidth\":0,\"ticks\":\"\"}}}],\"scattermapbox\":[{\"type\":\"scattermapbox\",\"marker\":{\"colorbar\":{\"outlinewidth\":0,\"ticks\":\"\"}}}],\"scatterternary\":[{\"type\":\"scatterternary\",\"marker\":{\"colorbar\":{\"outlinewidth\":0,\"ticks\":\"\"}}}],\"scattercarpet\":[{\"type\":\"scattercarpet\",\"marker\":{\"colorbar\":{\"outlinewidth\":0,\"ticks\":\"\"}}}],\"carpet\":[{\"aaxis\":{\"endlinecolor\":\"#2a3f5f\",\"gridcolor\":\"white\",\"linecolor\":\"white\",\"minorgridcolor\":\"white\",\"startlinecolor\":\"#2a3f5f\"},\"baxis\":{\"endlinecolor\":\"#2a3f5f\",\"gridcolor\":\"white\",\"linecolor\":\"white\",\"minorgridcolor\":\"white\",\"startlinecolor\":\"#2a3f5f\"},\"type\":\"carpet\"}],\"table\":[{\"cells\":{\"fill\":{\"color\":\"#EBF0F8\"},\"line\":{\"color\":\"white\"}},\"header\":{\"fill\":{\"color\":\"#C8D4E3\"},\"line\":{\"color\":\"white\"}},\"type\":\"table\"}],\"barpolar\":[{\"marker\":{\"line\":{\"color\":\"#E5ECF6\",\"width\":0.5},\"pattern\":{\"fillmode\":\"overlay\",\"size\":10,\"solidity\":0.2}},\"type\":\"barpolar\"}],\"pie\":[{\"automargin\":true,\"type\":\"pie\"}]},\"layout\":{\"autotypenumbers\":\"strict\",\"colorway\":[\"#636efa\",\"#EF553B\",\"#00cc96\",\"#ab63fa\",\"#FFA15A\",\"#19d3f3\",\"#FF6692\",\"#B6E880\",\"#FF97FF\",\"#FECB52\"],\"font\":{\"color\":\"#2a3f5f\"},\"hovermode\":\"closest\",\"hoverlabel\":{\"align\":\"left\"},\"paper_bgcolor\":\"white\",\"plot_bgcolor\":\"#E5ECF6\",\"polar\":{\"bgcolor\":\"#E5ECF6\",\"angularaxis\":{\"gridcolor\":\"white\",\"linecolor\":\"white\",\"ticks\":\"\"},\"radialaxis\":{\"gridcolor\":\"white\",\"linecolor\":\"white\",\"ticks\":\"\"}},\"ternary\":{\"bgcolor\":\"#E5ECF6\",\"aaxis\":{\"gridcolor\":\"white\",\"linecolor\":\"white\",\"ticks\":\"\"},\"baxis\":{\"gridcolor\":\"white\",\"linecolor\":\"white\",\"ticks\":\"\"},\"caxis\":{\"gridcolor\":\"white\",\"linecolor\":\"white\",\"ticks\":\"\"}},\"coloraxis\":{\"colorbar\":{\"outlinewidth\":0,\"ticks\":\"\"}},\"colorscale\":{\"sequential\":[[0.0,\"#0d0887\"],[0.1111111111111111,\"#46039f\"],[0.2222222222222222,\"#7201a8\"],[0.3333333333333333,\"#9c179e\"],[0.4444444444444444,\"#bd3786\"],[0.5555555555555556,\"#d8576b\"],[0.6666666666666666,\"#ed7953\"],[0.7777777777777778,\"#fb9f3a\"],[0.8888888888888888,\"#fdca26\"],[1.0,\"#f0f921\"]],\"sequentialminus\":[[0.0,\"#0d0887\"],[0.1111111111111111,\"#46039f\"],[0.2222222222222222,\"#7201a8\"],[0.3333333333333333,\"#9c179e\"],[0.4444444444444444,\"#bd3786\"],[0.5555555555555556,\"#d8576b\"],[0.6666666666666666,\"#ed7953\"],[0.7777777777777778,\"#fb9f3a\"],[0.8888888888888888,\"#fdca26\"],[1.0,\"#f0f921\"]],\"diverging\":[[0,\"#8e0152\"],[0.1,\"#c51b7d\"],[0.2,\"#de77ae\"],[0.3,\"#f1b6da\"],[0.4,\"#fde0ef\"],[0.5,\"#f7f7f7\"],[0.6,\"#e6f5d0\"],[0.7,\"#b8e186\"],[0.8,\"#7fbc41\"],[0.9,\"#4d9221\"],[1,\"#276419\"]]},\"xaxis\":{\"gridcolor\":\"white\",\"linecolor\":\"white\",\"ticks\":\"\",\"title\":{\"standoff\":15},\"zerolinecolor\":\"white\",\"automargin\":true,\"zerolinewidth\":2},\"yaxis\":{\"gridcolor\":\"white\",\"linecolor\":\"white\",\"ticks\":\"\",\"title\":{\"standoff\":15},\"zerolinecolor\":\"white\",\"automargin\":true,\"zerolinewidth\":2},\"scene\":{\"xaxis\":{\"backgroundcolor\":\"#E5ECF6\",\"gridcolor\":\"white\",\"linecolor\":\"white\",\"showbackground\":true,\"ticks\":\"\",\"zerolinecolor\":\"white\",\"gridwidth\":2},\"yaxis\":{\"backgroundcolor\":\"#E5ECF6\",\"gridcolor\":\"white\",\"linecolor\":\"white\",\"showbackground\":true,\"ticks\":\"\",\"zerolinecolor\":\"white\",\"gridwidth\":2},\"zaxis\":{\"backgroundcolor\":\"#E5ECF6\",\"gridcolor\":\"white\",\"linecolor\":\"white\",\"showbackground\":true,\"ticks\":\"\",\"zerolinecolor\":\"white\",\"gridwidth\":2}},\"shapedefaults\":{\"line\":{\"color\":\"#2a3f5f\"}},\"annotationdefaults\":{\"arrowcolor\":\"#2a3f5f\",\"arrowhead\":0,\"arrowwidth\":1},\"geo\":{\"bgcolor\":\"white\",\"landcolor\":\"#E5ECF6\",\"subunitcolor\":\"white\",\"showland\":true,\"showlakes\":true,\"lakecolor\":\"white\"},\"title\":{\"x\":0.05},\"mapbox\":{\"style\":\"light\"}}},\"xaxis\":{\"anchor\":\"y\",\"domain\":[0.0,1.0],\"title\":{\"text\":\"Fecha [dd/mm/yyyy]\"}},\"yaxis\":{\"anchor\":\"x\",\"domain\":[0.0,1.0],\"title\":{\"text\":\"Pan pedido [Kg]\"}},\"coloraxis\":{\"colorbar\":{\"title\":{\"text\":\"Pan vendido [Kg]\"}},\"colorscale\":[[0.0,\"#0d0887\"],[0.1111111111111111,\"#46039f\"],[0.2222222222222222,\"#7201a8\"],[0.3333333333333333,\"#9c179e\"],[0.4444444444444444,\"#bd3786\"],[0.5555555555555556,\"#d8576b\"],[0.6666666666666666,\"#ed7953\"],[0.7777777777777778,\"#fb9f3a\"],[0.8888888888888888,\"#fdca26\"],[1.0,\"#f0f921\"]]},\"legend\":{\"tracegroupgap\":0},\"title\":{\"text\":\"Pan Pedido v/s Pan Vendido: Diciembre\"}},                        {\"responsive\": true}                    ).then(function(){\n",
              "                            \n",
              "var gd = document.getElementById('48fea868-5212-427f-8dca-edc2024e4661');\n",
              "var x = new MutationObserver(function (mutations, observer) {{\n",
              "        var display = window.getComputedStyle(gd).display;\n",
              "        if (!display || display === 'none') {{\n",
              "            console.log([gd, 'removed!']);\n",
              "            Plotly.purge(gd);\n",
              "            observer.disconnect();\n",
              "        }}\n",
              "}});\n",
              "\n",
              "// Listen for the removal of the full notebook cells\n",
              "var notebookContainer = gd.closest('#notebook-container');\n",
              "if (notebookContainer) {{\n",
              "    x.observe(notebookContainer, {childList: true});\n",
              "}}\n",
              "\n",
              "// Listen for the clearing of the current output cell\n",
              "var outputEl = gd.closest('.output');\n",
              "if (outputEl) {{\n",
              "    x.observe(outputEl, {childList: true});\n",
              "}}\n",
              "\n",
              "                        })                };                            </script>        </div>\n",
              "</body>\n",
              "</html>"
            ]
          },
          "metadata": {}
        }
      ],
      "source": [
        "#Filtro que muestra las ventas x mes\n",
        "print(\"1) Enero\")\n",
        "print(\"2) Febrero\")\n",
        "print(\"3) Marzo\")\n",
        "print(\"4) Abril\")\n",
        "print(\"5) Mayo\")\n",
        "print(\"6) Junio\")\n",
        "print(\"7) Julio\")\n",
        "print(\"8) Agosto\")\n",
        "print(\"9) Septiembre\")\n",
        "print(\"10) Octubre\")\n",
        "print(\"11) Noviembre\")\n",
        "print(\"12) Diciembre\")\n",
        "x = input(\"Mes: \")\n",
        "if x == \"1\":\n",
        "    mes = \"Enero\"\n",
        "elif x == \"2\":\n",
        "    mes = \"Febrero\"\n",
        "elif x == \"3\":\n",
        "    mes = \"Marzo\"\n",
        "elif x == \"4\":\n",
        "    mes = \"Abril\"\n",
        "elif x == \"5\":\n",
        "    mes = \"Mayo\"\n",
        "elif x == \"6\":\n",
        "    mes = \"Juenio\"\n",
        "elif x == \"7\":\n",
        "    mes = \"Julio\"\n",
        "elif x == \"8\":\n",
        "    mes = \"Agosto\"\n",
        "elif x == \"9\":\n",
        "    mes = \"Septiembre\"\n",
        "elif x == \"10\":\n",
        "    mes = \"Octubre\"\n",
        "elif x == \"11\":\n",
        "    mes = \"Noviembre\"\n",
        "elif x == \"12\":\n",
        "    mes = \"Diciembre\"\n",
        "\n",
        "df2 = df[(df[\"Month\"] == int(x))]\n",
        "figPedido = px.scatter(df2, x=\"Date\", y=\"Pedido\", color=\"Vendido\",title=\"Pan Pedido v/s Pan Vendido: \"+mes ,labels={\"Date\":\"Fecha [dd/mm/yyyy]\",\"Pedido\":\"Pan pedido [Kg]\",\"Vendido\":\"Pan vendido [Kg]\"})\n",
        "figPedido.show()"
      ]
    },
    {
      "cell_type": "code",
      "execution_count": 5,
      "metadata": {
        "id": "hhajIxHUuRBZ",
        "colab": {
          "base_uri": "https://localhost:8080/",
          "height": 681
        },
        "outputId": "50d3660d-56ca-4953-bd78-a044d66b3c9c"
      },
      "outputs": [
        {
          "name": "stdout",
          "output_type": "stream",
          "text": [
            "1) Lunes\n",
            "2) Martes\n",
            "3) Miercoles\n",
            "4) Jueves\n",
            "5) Viernes\n",
            "6) Sábado\n",
            "7) Domingo\n",
            "Dia: 1\n"
          ]
        },
        {
          "output_type": "display_data",
          "data": {
            "text/html": [
              "<html>\n",
              "<head><meta charset=\"utf-8\" /></head>\n",
              "<body>\n",
              "    <div>            <script src=\"https://cdnjs.cloudflare.com/ajax/libs/mathjax/2.7.5/MathJax.js?config=TeX-AMS-MML_SVG\"></script><script type=\"text/javascript\">if (window.MathJax && window.MathJax.Hub && window.MathJax.Hub.Config) {window.MathJax.Hub.Config({SVG: {font: \"STIX-Web\"}});}</script>                <script type=\"text/javascript\">window.PlotlyConfig = {MathJaxConfig: 'local'};</script>\n",
              "        <script src=\"https://cdn.plot.ly/plotly-2.18.2.min.js\"></script>                <div id=\"a0563e1f-54ae-4ee8-a109-c6561d018cba\" class=\"plotly-graph-div\" style=\"height:525px; width:100%;\"></div>            <script type=\"text/javascript\">                                    window.PLOTLYENV=window.PLOTLYENV || {};                                    if (document.getElementById(\"a0563e1f-54ae-4ee8-a109-c6561d018cba\")) {                    Plotly.newPlot(                        \"a0563e1f-54ae-4ee8-a109-c6561d018cba\",                        [{\"hovertemplate\":\"Fecha [dd/mm/yyyy]=%{x}<br>Pan pedido [Kg]=%{y}<br>Pan vendido [Kg]=%{marker.color}<extra></extra>\",\"legendgroup\":\"\",\"marker\":{\"color\":[2,3,3,5,4,3,5,2,3,5,3,2,4,5,3,3,3,2,4,5,4,3,3,4,3,4,4,3,5,4,3,3,3,4,2,3,3,2,4,5,2,2,5,4,5,5,3,4,3,3,2,2],\"coloraxis\":\"coloraxis\",\"symbol\":\"circle\"},\"mode\":\"markers\",\"name\":\"\",\"orientation\":\"v\",\"showlegend\":false,\"x\":[\"02/01/2023\",\"09/01/2023\",\"16/01/2023\",\"23/01/2023\",\"30/01/2023\",\"06/02/2023\",\"13/02/2023\",\"20/02/2023\",\"27/02/2023\",\"06/03/2023\",\"13/03/2023\",\"20/03/2023\",\"27/03/2023\",\"03/04/2023\",\"10/04/2023\",\"17/04/2023\",\"24/04/2023\",\"01/05/2023\",\"08/05/2023\",\"15/05/2023\",\"22/05/2023\",\"29/05/2023\",\"05/06/2023\",\"12/06/2023\",\"19/06/2023\",\"26/06/2023\",\"03/07/2023\",\"10/07/2023\",\"17/07/2023\",\"24/07/2023\",\"31/07/2023\",\"07/08/2023\",\"14/08/2023\",\"21/08/2023\",\"28/08/2023\",\"04/09/2023\",\"11/09/2023\",\"18/09/2023\",\"25/09/2023\",\"02/10/2023\",\"09/10/2023\",\"16/10/2023\",\"23/10/2023\",\"30/10/2023\",\"06/11/2023\",\"13/11/2023\",\"20/11/2023\",\"27/11/2023\",\"04/12/2023\",\"11/12/2023\",\"18/12/2023\",\"25/12/2023\"],\"xaxis\":\"x\",\"y\":[4,4,5,5,4,5,5,5,5,5,5,4,4,5,4,5,5,4,4,5,5,5,5,4,5,4,4,4,5,5,4,4,4,5,4,4,5,5,5,5,4,5,5,5,5,5,4,5,4,5,4,5],\"yaxis\":\"y\",\"type\":\"scatter\"}],                        {\"template\":{\"data\":{\"histogram2dcontour\":[{\"type\":\"histogram2dcontour\",\"colorbar\":{\"outlinewidth\":0,\"ticks\":\"\"},\"colorscale\":[[0.0,\"#0d0887\"],[0.1111111111111111,\"#46039f\"],[0.2222222222222222,\"#7201a8\"],[0.3333333333333333,\"#9c179e\"],[0.4444444444444444,\"#bd3786\"],[0.5555555555555556,\"#d8576b\"],[0.6666666666666666,\"#ed7953\"],[0.7777777777777778,\"#fb9f3a\"],[0.8888888888888888,\"#fdca26\"],[1.0,\"#f0f921\"]]}],\"choropleth\":[{\"type\":\"choropleth\",\"colorbar\":{\"outlinewidth\":0,\"ticks\":\"\"}}],\"histogram2d\":[{\"type\":\"histogram2d\",\"colorbar\":{\"outlinewidth\":0,\"ticks\":\"\"},\"colorscale\":[[0.0,\"#0d0887\"],[0.1111111111111111,\"#46039f\"],[0.2222222222222222,\"#7201a8\"],[0.3333333333333333,\"#9c179e\"],[0.4444444444444444,\"#bd3786\"],[0.5555555555555556,\"#d8576b\"],[0.6666666666666666,\"#ed7953\"],[0.7777777777777778,\"#fb9f3a\"],[0.8888888888888888,\"#fdca26\"],[1.0,\"#f0f921\"]]}],\"heatmap\":[{\"type\":\"heatmap\",\"colorbar\":{\"outlinewidth\":0,\"ticks\":\"\"},\"colorscale\":[[0.0,\"#0d0887\"],[0.1111111111111111,\"#46039f\"],[0.2222222222222222,\"#7201a8\"],[0.3333333333333333,\"#9c179e\"],[0.4444444444444444,\"#bd3786\"],[0.5555555555555556,\"#d8576b\"],[0.6666666666666666,\"#ed7953\"],[0.7777777777777778,\"#fb9f3a\"],[0.8888888888888888,\"#fdca26\"],[1.0,\"#f0f921\"]]}],\"heatmapgl\":[{\"type\":\"heatmapgl\",\"colorbar\":{\"outlinewidth\":0,\"ticks\":\"\"},\"colorscale\":[[0.0,\"#0d0887\"],[0.1111111111111111,\"#46039f\"],[0.2222222222222222,\"#7201a8\"],[0.3333333333333333,\"#9c179e\"],[0.4444444444444444,\"#bd3786\"],[0.5555555555555556,\"#d8576b\"],[0.6666666666666666,\"#ed7953\"],[0.7777777777777778,\"#fb9f3a\"],[0.8888888888888888,\"#fdca26\"],[1.0,\"#f0f921\"]]}],\"contourcarpet\":[{\"type\":\"contourcarpet\",\"colorbar\":{\"outlinewidth\":0,\"ticks\":\"\"}}],\"contour\":[{\"type\":\"contour\",\"colorbar\":{\"outlinewidth\":0,\"ticks\":\"\"},\"colorscale\":[[0.0,\"#0d0887\"],[0.1111111111111111,\"#46039f\"],[0.2222222222222222,\"#7201a8\"],[0.3333333333333333,\"#9c179e\"],[0.4444444444444444,\"#bd3786\"],[0.5555555555555556,\"#d8576b\"],[0.6666666666666666,\"#ed7953\"],[0.7777777777777778,\"#fb9f3a\"],[0.8888888888888888,\"#fdca26\"],[1.0,\"#f0f921\"]]}],\"surface\":[{\"type\":\"surface\",\"colorbar\":{\"outlinewidth\":0,\"ticks\":\"\"},\"colorscale\":[[0.0,\"#0d0887\"],[0.1111111111111111,\"#46039f\"],[0.2222222222222222,\"#7201a8\"],[0.3333333333333333,\"#9c179e\"],[0.4444444444444444,\"#bd3786\"],[0.5555555555555556,\"#d8576b\"],[0.6666666666666666,\"#ed7953\"],[0.7777777777777778,\"#fb9f3a\"],[0.8888888888888888,\"#fdca26\"],[1.0,\"#f0f921\"]]}],\"mesh3d\":[{\"type\":\"mesh3d\",\"colorbar\":{\"outlinewidth\":0,\"ticks\":\"\"}}],\"scatter\":[{\"fillpattern\":{\"fillmode\":\"overlay\",\"size\":10,\"solidity\":0.2},\"type\":\"scatter\"}],\"parcoords\":[{\"type\":\"parcoords\",\"line\":{\"colorbar\":{\"outlinewidth\":0,\"ticks\":\"\"}}}],\"scatterpolargl\":[{\"type\":\"scatterpolargl\",\"marker\":{\"colorbar\":{\"outlinewidth\":0,\"ticks\":\"\"}}}],\"bar\":[{\"error_x\":{\"color\":\"#2a3f5f\"},\"error_y\":{\"color\":\"#2a3f5f\"},\"marker\":{\"line\":{\"color\":\"#E5ECF6\",\"width\":0.5},\"pattern\":{\"fillmode\":\"overlay\",\"size\":10,\"solidity\":0.2}},\"type\":\"bar\"}],\"scattergeo\":[{\"type\":\"scattergeo\",\"marker\":{\"colorbar\":{\"outlinewidth\":0,\"ticks\":\"\"}}}],\"scatterpolar\":[{\"type\":\"scatterpolar\",\"marker\":{\"colorbar\":{\"outlinewidth\":0,\"ticks\":\"\"}}}],\"histogram\":[{\"marker\":{\"pattern\":{\"fillmode\":\"overlay\",\"size\":10,\"solidity\":0.2}},\"type\":\"histogram\"}],\"scattergl\":[{\"type\":\"scattergl\",\"marker\":{\"colorbar\":{\"outlinewidth\":0,\"ticks\":\"\"}}}],\"scatter3d\":[{\"type\":\"scatter3d\",\"line\":{\"colorbar\":{\"outlinewidth\":0,\"ticks\":\"\"}},\"marker\":{\"colorbar\":{\"outlinewidth\":0,\"ticks\":\"\"}}}],\"scattermapbox\":[{\"type\":\"scattermapbox\",\"marker\":{\"colorbar\":{\"outlinewidth\":0,\"ticks\":\"\"}}}],\"scatterternary\":[{\"type\":\"scatterternary\",\"marker\":{\"colorbar\":{\"outlinewidth\":0,\"ticks\":\"\"}}}],\"scattercarpet\":[{\"type\":\"scattercarpet\",\"marker\":{\"colorbar\":{\"outlinewidth\":0,\"ticks\":\"\"}}}],\"carpet\":[{\"aaxis\":{\"endlinecolor\":\"#2a3f5f\",\"gridcolor\":\"white\",\"linecolor\":\"white\",\"minorgridcolor\":\"white\",\"startlinecolor\":\"#2a3f5f\"},\"baxis\":{\"endlinecolor\":\"#2a3f5f\",\"gridcolor\":\"white\",\"linecolor\":\"white\",\"minorgridcolor\":\"white\",\"startlinecolor\":\"#2a3f5f\"},\"type\":\"carpet\"}],\"table\":[{\"cells\":{\"fill\":{\"color\":\"#EBF0F8\"},\"line\":{\"color\":\"white\"}},\"header\":{\"fill\":{\"color\":\"#C8D4E3\"},\"line\":{\"color\":\"white\"}},\"type\":\"table\"}],\"barpolar\":[{\"marker\":{\"line\":{\"color\":\"#E5ECF6\",\"width\":0.5},\"pattern\":{\"fillmode\":\"overlay\",\"size\":10,\"solidity\":0.2}},\"type\":\"barpolar\"}],\"pie\":[{\"automargin\":true,\"type\":\"pie\"}]},\"layout\":{\"autotypenumbers\":\"strict\",\"colorway\":[\"#636efa\",\"#EF553B\",\"#00cc96\",\"#ab63fa\",\"#FFA15A\",\"#19d3f3\",\"#FF6692\",\"#B6E880\",\"#FF97FF\",\"#FECB52\"],\"font\":{\"color\":\"#2a3f5f\"},\"hovermode\":\"closest\",\"hoverlabel\":{\"align\":\"left\"},\"paper_bgcolor\":\"white\",\"plot_bgcolor\":\"#E5ECF6\",\"polar\":{\"bgcolor\":\"#E5ECF6\",\"angularaxis\":{\"gridcolor\":\"white\",\"linecolor\":\"white\",\"ticks\":\"\"},\"radialaxis\":{\"gridcolor\":\"white\",\"linecolor\":\"white\",\"ticks\":\"\"}},\"ternary\":{\"bgcolor\":\"#E5ECF6\",\"aaxis\":{\"gridcolor\":\"white\",\"linecolor\":\"white\",\"ticks\":\"\"},\"baxis\":{\"gridcolor\":\"white\",\"linecolor\":\"white\",\"ticks\":\"\"},\"caxis\":{\"gridcolor\":\"white\",\"linecolor\":\"white\",\"ticks\":\"\"}},\"coloraxis\":{\"colorbar\":{\"outlinewidth\":0,\"ticks\":\"\"}},\"colorscale\":{\"sequential\":[[0.0,\"#0d0887\"],[0.1111111111111111,\"#46039f\"],[0.2222222222222222,\"#7201a8\"],[0.3333333333333333,\"#9c179e\"],[0.4444444444444444,\"#bd3786\"],[0.5555555555555556,\"#d8576b\"],[0.6666666666666666,\"#ed7953\"],[0.7777777777777778,\"#fb9f3a\"],[0.8888888888888888,\"#fdca26\"],[1.0,\"#f0f921\"]],\"sequentialminus\":[[0.0,\"#0d0887\"],[0.1111111111111111,\"#46039f\"],[0.2222222222222222,\"#7201a8\"],[0.3333333333333333,\"#9c179e\"],[0.4444444444444444,\"#bd3786\"],[0.5555555555555556,\"#d8576b\"],[0.6666666666666666,\"#ed7953\"],[0.7777777777777778,\"#fb9f3a\"],[0.8888888888888888,\"#fdca26\"],[1.0,\"#f0f921\"]],\"diverging\":[[0,\"#8e0152\"],[0.1,\"#c51b7d\"],[0.2,\"#de77ae\"],[0.3,\"#f1b6da\"],[0.4,\"#fde0ef\"],[0.5,\"#f7f7f7\"],[0.6,\"#e6f5d0\"],[0.7,\"#b8e186\"],[0.8,\"#7fbc41\"],[0.9,\"#4d9221\"],[1,\"#276419\"]]},\"xaxis\":{\"gridcolor\":\"white\",\"linecolor\":\"white\",\"ticks\":\"\",\"title\":{\"standoff\":15},\"zerolinecolor\":\"white\",\"automargin\":true,\"zerolinewidth\":2},\"yaxis\":{\"gridcolor\":\"white\",\"linecolor\":\"white\",\"ticks\":\"\",\"title\":{\"standoff\":15},\"zerolinecolor\":\"white\",\"automargin\":true,\"zerolinewidth\":2},\"scene\":{\"xaxis\":{\"backgroundcolor\":\"#E5ECF6\",\"gridcolor\":\"white\",\"linecolor\":\"white\",\"showbackground\":true,\"ticks\":\"\",\"zerolinecolor\":\"white\",\"gridwidth\":2},\"yaxis\":{\"backgroundcolor\":\"#E5ECF6\",\"gridcolor\":\"white\",\"linecolor\":\"white\",\"showbackground\":true,\"ticks\":\"\",\"zerolinecolor\":\"white\",\"gridwidth\":2},\"zaxis\":{\"backgroundcolor\":\"#E5ECF6\",\"gridcolor\":\"white\",\"linecolor\":\"white\",\"showbackground\":true,\"ticks\":\"\",\"zerolinecolor\":\"white\",\"gridwidth\":2}},\"shapedefaults\":{\"line\":{\"color\":\"#2a3f5f\"}},\"annotationdefaults\":{\"arrowcolor\":\"#2a3f5f\",\"arrowhead\":0,\"arrowwidth\":1},\"geo\":{\"bgcolor\":\"white\",\"landcolor\":\"#E5ECF6\",\"subunitcolor\":\"white\",\"showland\":true,\"showlakes\":true,\"lakecolor\":\"white\"},\"title\":{\"x\":0.05},\"mapbox\":{\"style\":\"light\"}}},\"xaxis\":{\"anchor\":\"y\",\"domain\":[0.0,1.0],\"title\":{\"text\":\"Fecha [dd/mm/yyyy]\"}},\"yaxis\":{\"anchor\":\"x\",\"domain\":[0.0,1.0],\"title\":{\"text\":\"Pan pedido [Kg]\"}},\"coloraxis\":{\"colorbar\":{\"title\":{\"text\":\"Pan vendido [Kg]\"}},\"colorscale\":[[0.0,\"#0d0887\"],[0.1111111111111111,\"#46039f\"],[0.2222222222222222,\"#7201a8\"],[0.3333333333333333,\"#9c179e\"],[0.4444444444444444,\"#bd3786\"],[0.5555555555555556,\"#d8576b\"],[0.6666666666666666,\"#ed7953\"],[0.7777777777777778,\"#fb9f3a\"],[0.8888888888888888,\"#fdca26\"],[1.0,\"#f0f921\"]]},\"legend\":{\"tracegroupgap\":0},\"title\":{\"text\":\"Pan Pedido v/s Vendido: D\\u00edas Lunes\"}},                        {\"responsive\": true}                    ).then(function(){\n",
              "                            \n",
              "var gd = document.getElementById('a0563e1f-54ae-4ee8-a109-c6561d018cba');\n",
              "var x = new MutationObserver(function (mutations, observer) {{\n",
              "        var display = window.getComputedStyle(gd).display;\n",
              "        if (!display || display === 'none') {{\n",
              "            console.log([gd, 'removed!']);\n",
              "            Plotly.purge(gd);\n",
              "            observer.disconnect();\n",
              "        }}\n",
              "}});\n",
              "\n",
              "// Listen for the removal of the full notebook cells\n",
              "var notebookContainer = gd.closest('#notebook-container');\n",
              "if (notebookContainer) {{\n",
              "    x.observe(notebookContainer, {childList: true});\n",
              "}}\n",
              "\n",
              "// Listen for the clearing of the current output cell\n",
              "var outputEl = gd.closest('.output');\n",
              "if (outputEl) {{\n",
              "    x.observe(outputEl, {childList: true});\n",
              "}}\n",
              "\n",
              "                        })                };                            </script>        </div>\n",
              "</body>\n",
              "</html>"
            ]
          },
          "metadata": {}
        }
      ],
      "source": [
        "#Filtro que muestra las ventas x día\n",
        "print(\"1) Lunes\")\n",
        "print(\"2) Martes\")\n",
        "print(\"3) Miercoles\")\n",
        "print(\"4) Jueves\")\n",
        "print(\"5) Viernes\")\n",
        "print(\"6) Sábado\")\n",
        "print(\"7) Domingo\")\n",
        "x = input(\"Dia: \")\n",
        "if x == \"1\":\n",
        "    dia = \"Lunes\"\n",
        "elif x == \"2\":\n",
        "    dia = \"Martes\"\n",
        "elif x == \"3\":\n",
        "    dia = \"Miercoles\"\n",
        "elif x == \"4\":\n",
        "    dia = \"Jueves\"\n",
        "elif x == \"5\":\n",
        "    dia = \"Viernes\"\n",
        "elif x == \"6\":\n",
        "    dia = \"Sábado\"\n",
        "elif x == \"7\":\n",
        "    dia = \"Domingo\"\n",
        "df3 = df[(df[\"WeekDay\"] == int(x))]\n",
        "figPedido = px.scatter(df3, x=\"Date\", y=\"Pedido\", color=\"Vendido\",title=\"Pan Pedido v/s Vendido: Días \"+dia,labels={\"Date\":\"Fecha [dd/mm/yyyy]\",\"Pedido\":\"Pan pedido [Kg]\",\"Vendido\":\"Pan vendido [Kg]\"})\n",
        "\n",
        "figPedido.show()"
      ]
    }
  ],
  "metadata": {
    "colab": {
      "provenance": [],
      "mount_file_id": "1xP4hAFCDmf_jmmxDSoEuSDui80Dn508P",
      "authorship_tag": "ABX9TyO2H7mXHWGBYgjSyh0Sm8qp",
      "include_colab_link": true
    },
    "kernelspec": {
      "display_name": "Python 3",
      "name": "python3"
    },
    "language_info": {
      "name": "python"
    }
  },
  "nbformat": 4,
  "nbformat_minor": 0
}